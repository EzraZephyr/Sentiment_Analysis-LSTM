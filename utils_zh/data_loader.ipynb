{
 "cells": [
  {
   "metadata": {
    "ExecuteTime": {
     "end_time": "2024-07-11T12:36:57.198747Z",
     "start_time": "2024-07-11T12:36:56.257855Z"
    }
   },
   "cell_type": "code",
   "source": [
    "import pickle\n",
    "import re\n",
    "import pandas as pd\n",
    "from nltk.corpus import stopwords\n",
    "from nltk.tokenize import word_tokenize\n",
    "from nltk.stem import WordNetLemmatizer"
   ],
   "id": "7fb02bb9c0d716cf",
   "outputs": [],
   "execution_count": 2
  },
  {
   "metadata": {
    "ExecuteTime": {
     "end_time": "2024-07-11T12:36:57.628546Z",
     "start_time": "2024-07-11T12:36:57.611285Z"
    }
   },
   "cell_type": "code",
   "source": [
    "def clean_text(text):\n",
    "    text = re.sub(r'<.*?>', '', text)\n",
    "    text = re.sub(r'[^a-zA-Z]',' ',text)\n",
    "    text = text.lower()\n",
    "\n",
    "    words = word_tokenize(text)\n",
    "    lemmatizer = WordNetLemmatizer()\n",
    "    words = [lemmatizer.lemmatize(word) for word in words if word not in stopwords.words('english')]\n",
    "\n",
    "    text = ' '.join(words)\n",
    "\n",
    "    return text"
   ],
   "id": "d1f34076449714e0",
   "outputs": [],
   "execution_count": 3
  },
  {
   "metadata": {
    "ExecuteTime": {
     "end_time": "2024-07-11T12:37:14.406351Z",
     "start_time": "2024-07-11T12:37:14.393809Z"
    }
   },
   "cell_type": "code",
   "source": [
    "def dataloader():\n",
    "    filename = '../data/IMDB Dataset.csv'\n",
    "    data = pd.read_csv(filename)\n",
    "    x = data['review']\n",
    "    y = data['sentiment']\n",
    "\n",
    "    for i in range(len(x)):\n",
    "        x[i] = clean_text(x[i])\n",
    "        if i % 1000 == 0:\n",
    "            print(i)\n",
    "\n",
    "    return x, y"
   ],
   "id": "1156a84d1bd517fe",
   "outputs": [],
   "execution_count": 6
  },
  {
   "metadata": {
    "ExecuteTime": {
     "end_time": "2024-07-12T08:16:02.648320Z",
     "start_time": "2024-07-12T08:16:02.511562Z"
    }
   },
   "cell_type": "code",
   "source": [
    "x,y = dataloader()\n",
    "print(x[:5])\n",
    "print(y[:5])\n",
    "with open('preprocessed_data/x.pkl', 'wb') as f:\n",
    "    pickle.dump(x, f)\n",
    "with open('preprocessed_data/y.pkl', 'wb') as f:\n",
    "    pickle.dump(y, f)"
   ],
   "id": "5f588a3e789d45bf",
   "outputs": [
    {
     "ename": "NameError",
     "evalue": "name 'dataloader' is not defined",
     "output_type": "error",
     "traceback": [
      "\u001B[1;31m---------------------------------------------------------------------------\u001B[0m",
      "\u001B[1;31mNameError\u001B[0m                                 Traceback (most recent call last)",
      "Cell \u001B[1;32mIn[1], line 1\u001B[0m\n\u001B[1;32m----> 1\u001B[0m x,y \u001B[38;5;241m=\u001B[39m \u001B[43mdataloader\u001B[49m()\n\u001B[0;32m      2\u001B[0m \u001B[38;5;28mprint\u001B[39m(x[:\u001B[38;5;241m5\u001B[39m])\n\u001B[0;32m      3\u001B[0m \u001B[38;5;28mprint\u001B[39m(y[:\u001B[38;5;241m5\u001B[39m])\n",
      "\u001B[1;31mNameError\u001B[0m: name 'dataloader' is not defined"
     ]
    }
   ],
   "execution_count": 1
  },
  {
   "metadata": {
    "ExecuteTime": {
     "end_time": "2024-07-10T08:03:29.143127Z",
     "start_time": "2024-07-10T08:03:29.127409Z"
    }
   },
   "cell_type": "code",
   "source": [
    "with open('preprocessed_data/y.pkl', 'rb') as f:\n",
    "    data = pickle.load(f)\n",
    "\n",
    "print(len(data))"
   ],
   "id": "9080c27c7c449cf5",
   "outputs": [
    {
     "name": "stdout",
     "output_type": "stream",
     "text": [
      "50000\n"
     ]
    }
   ],
   "execution_count": 7
  },
  {
   "metadata": {
    "ExecuteTime": {
     "end_time": "2024-07-10T07:24:02.380930Z",
     "start_time": "2024-07-10T07:24:02.380930Z"
    }
   },
   "cell_type": "code",
   "source": "",
   "id": "face39b594072739",
   "outputs": [],
   "execution_count": null
  },
  {
   "metadata": {},
   "cell_type": "code",
   "outputs": [],
   "execution_count": null,
   "source": "",
   "id": "38a4dd3ab2f35a29"
  }
 ],
 "metadata": {
  "kernelspec": {
   "display_name": "Python 3",
   "language": "python",
   "name": "python3"
  },
  "language_info": {
   "codemirror_mode": {
    "name": "ipython",
    "version": 2
   },
   "file_extension": ".py",
   "mimetype": "text/x-python",
   "name": "python",
   "nbconvert_exporter": "python",
   "pygments_lexer": "ipython2",
   "version": "2.7.6"
  }
 },
 "nbformat": 4,
 "nbformat_minor": 5
}
