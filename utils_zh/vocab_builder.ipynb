{
 "cells": [
  {
   "metadata": {
    "ExecuteTime": {
     "end_time": "2024-07-11T07:25:04.527317Z",
     "start_time": "2024-07-11T07:24:52.000774Z"
    }
   },
   "cell_type": "code",
   "source": [
    "import pickle\n",
    "from nltk.tokenize import word_tokenize\n",
    "from tensorflow import keras\n",
    "from sklearn.model_selection import train_test_split"
   ],
   "id": "1ab03534a0b96c6b",
   "outputs": [],
   "execution_count": 1
  },
  {
   "metadata": {
    "ExecuteTime": {
     "end_time": "2024-07-11T07:25:23.322428Z",
     "start_time": "2024-07-11T07:25:23.306785Z"
    }
   },
   "cell_type": "code",
   "source": [
    "def vocab_builder():\n",
    "    with open('../preprocessed_data/x.pkl', 'rb') as f:\n",
    "        x = pickle.load(f)\n",
    "    with open('../preprocessed_data/y.pkl', 'rb') as f:\n",
    "        y = pickle.load(f)\n",
    "    \n",
    "    index_to_word, all_words = ['PAD',],[]\n",
    "    i = 0\n",
    "    for line in x:\n",
    "        i+=1\n",
    "        if i % 1000 == 0:\n",
    "            print(i)\n",
    "        words = word_tokenize(line)\n",
    "        all_words.append(words)\n",
    "        for word in words:\n",
    "            if word not in index_to_word:\n",
    "                index_to_word.append(word)\n",
    "\n",
    "    word_to_index = {word:idx for idx,word in enumerate(index_to_word)}\n",
    "    word_count = len(index_to_word)\n",
    "    corpus_idx = []\n",
    "    for line in all_words:\n",
    "        temp = []\n",
    "        for word in line:\n",
    "            temp.append(word_to_index[word])\n",
    "        \n",
    "        temp = keras.preprocessing.sequence.pad_sequences([temp], maxlen=100, padding='post')\n",
    "        corpus_idx.append(temp[0])\n",
    "\n",
    "    label_to_index = {\"positive\": 1, \"negative\": 0}\n",
    "    y_converted = [label_to_index[label] for label in y]\n",
    "    \n",
    "    X_train, X_test, y_train, y_test = train_test_split(corpus_idx,y_converted, test_size=0.2)\n",
    "    \n",
    "    return index_to_word, word_to_index, word_count, corpus_idx, \\\n",
    "        y_converted,X_train, X_test, y_train, y_test"
   ],
   "id": "14545f29ba5fe513",
   "outputs": [],
   "execution_count": 5
  },
  {
   "metadata": {
    "ExecuteTime": {
     "end_time": "2024-07-11T07:29:51.648619Z",
     "start_time": "2024-07-11T07:25:32.794262Z"
    }
   },
   "cell_type": "code",
   "source": [
    "index_to_word, word_to_index, word_count, corpus_idx,\\\n",
    "    y_converted,X_train, X_test, y_train, y_test = vocab_builder()\n",
    "print(index_to_word[:5])\n",
    "with open('../preprocessed_data/index_to_word.pkl', 'wb') as f:\n",
    "    pickle.dump(index_to_word, f)\n",
    "with open('../preprocessed_data/word_to_index.pkl', 'wb') as f:\n",
    "    pickle.dump(word_to_index, f)\n",
    "with open('../preprocessed_data/word_count.pkl', 'wb') as f:\n",
    "    pickle.dump(word_count, f)\n",
    "with open('../preprocessed_data/corpus_idx.pkl', 'wb') as f:\n",
    "    pickle.dump(corpus_idx, f)\n",
    "with open('../preprocessed_data/y_converted.pkl', 'wb') as f:\n",
    "    pickle.dump(y_converted,f)\n",
    "with open('../preprocessed_data/X_train.pkl', 'wb') as f:\n",
    "    pickle.dump(X_train,f)\n",
    "with open('../preprocessed_data/X_test.pkl', 'wb') as f:\n",
    "    pickle.dump(X_test,f)\n",
    "with open('../preprocessed_data/y_train.pkl', 'wb') as f:\n",
    "    pickle.dump(y_train,f)\n",
    "with open('../preprocessed_data/y_test.pkl', 'wb') as f:\n",
    "    pickle.dump(y_test,f)"
   ],
   "id": "2dca2cb4971b0e02",
   "outputs": [
    {
     "name": "stdout",
     "output_type": "stream",
     "text": [
      "1000\n",
      "2000\n",
      "3000\n",
      "4000\n",
      "5000\n",
      "6000\n",
      "7000\n",
      "8000\n",
      "9000\n",
      "10000\n",
      "11000\n",
      "12000\n",
      "13000\n",
      "14000\n",
      "15000\n",
      "16000\n",
      "17000\n",
      "18000\n",
      "19000\n",
      "20000\n",
      "21000\n",
      "22000\n",
      "23000\n",
      "24000\n",
      "25000\n",
      "26000\n",
      "27000\n",
      "28000\n",
      "29000\n",
      "30000\n",
      "31000\n",
      "32000\n",
      "33000\n",
      "34000\n",
      "35000\n",
      "36000\n",
      "37000\n",
      "38000\n",
      "39000\n",
      "40000\n",
      "41000\n",
      "42000\n",
      "43000\n",
      "44000\n",
      "45000\n",
      "46000\n",
      "47000\n",
      "48000\n",
      "49000\n",
      "50000\n",
      "['PAD', 'one', 'reviewer', 'mentioned', 'watching']\n"
     ]
    }
   ],
   "execution_count": 6
  },
  {
   "metadata": {
    "ExecuteTime": {
     "end_time": "2024-07-11T07:56:03.118090Z",
     "start_time": "2024-07-11T07:56:03.086180Z"
    }
   },
   "cell_type": "code",
   "source": [
    "data = pickle.load(open('../preprocessed_data/X_test.pkl', 'rb'))\n",
    "print(data[0])"
   ],
   "id": "5ec82036a0561b20",
   "outputs": [
    {
     "name": "stdout",
     "output_type": "stream",
     "text": [
      "[20195   509   291  1142  1180   623   201  5323  1401   283    82   273\n",
      "  2529  2530   488   843   291  2830   141   844   842   366  1208   301\n",
      "   395   250  5592   291   273  1459 20195   533  3894    40  5323   282\n",
      "   176   477   533   324  3812   609   323  1298   410 12071 27499 10596\n",
      " 16980  7077  1958  2313  4673   322   843 13776   177  2207   539  2071\n",
      "   351   318  1122   322  2207  4175   939   291  1054   566 11214  2319\n",
      "  6830   614   609   323  5444  5079   283 20195  3304    76  2235   709\n",
      "  5917   366   709  1142  1180   443 20337     0     0     0     0     0\n",
      "     0     0     0     0]\n"
     ]
    }
   ],
   "execution_count": 8
  },
  {
   "metadata": {},
   "cell_type": "code",
   "outputs": [],
   "execution_count": null,
   "source": "",
   "id": "87740bb57a9c7e92"
  }
 ],
 "metadata": {
  "kernelspec": {
   "display_name": "Python 3",
   "language": "python",
   "name": "python3"
  },
  "language_info": {
   "codemirror_mode": {
    "name": "ipython",
    "version": 2
   },
   "file_extension": ".py",
   "mimetype": "text/x-python",
   "name": "python",
   "nbconvert_exporter": "python",
   "pygments_lexer": "ipython2",
   "version": "2.7.6"
  }
 },
 "nbformat": 4,
 "nbformat_minor": 5
}
